{
 "cells": [
  {
   "cell_type": "code",
   "execution_count": 1,
   "id": "c42cd328",
   "metadata": {},
   "outputs": [
    {
     "name": "stdout",
     "output_type": "stream",
     "text": [
      "[1/6] Initializing services ...\n",
      "[2/6] Semantic retrieval from Chroma ...\n",
      "  Retrieved 30 semantic candidates\n",
      "[3/6] Extract platform/profile candidates ...\n",
      "  Extracted 30 unique platform/profile candidates\n",
      "[4/6] Fetch numeric measurements from DuckDB ...\n",
      "  Retrieved 64007 numeric rows from DuckDB\n",
      "[5/6] Assemble context for LLM ...\n",
      "[6/6] Calling LLM (Azure OpenAI) ...\n",
      "LLM responded (truncated):\n",
      " In March 2025, salinity profiles near the equator show surface salinity values around 36.13–36.14 PSU at shallow pressures (2.9–21.6 dbar), with consistent readings across the sampled depths [SQL:6903139:20]. The overall mean salinity for the dataset is 35.53 PSU, with a range from 32.10 to 37.80 PSU [SQL:6903139:20]. These profiles suggest stable, high salinity in the upper ocean layers for this region and time.\n",
      "\n",
      "Recommended visualizations:\n",
      "- Plot 1: Salinity Profile — x=PRES, y=PSAL, color=platform_number\n",
      "- Plot 2: Temperature vs Salinity — x=PSAL, y=TEMP, color=PRES\n",
      "- Plot 3: Salinity Distribution — histogram of PSAL values\n",
      "Audit written: I:\\SIH - FloatChat\\ArgoPipeline\\pipeline_audits\\audit_1cf54d7e50de49eebb65949cd5be75f1.json\n",
      "{'status': 'OK', 'run_id': '1cf54d7e50de49eebb65949cd5be75f1', 'audit': 'I:\\\\SIH - FloatChat\\\\ArgoPipeline\\\\pipeline_audits\\\\audit_1cf54d7e50de49eebb65949cd5be75f1.json', 'output_json': '..\\\\pipeline_outputs\\\\rag_equator_mar2025.json'}\n"
     ]
    }
   ],
   "source": [
    "# from a notebook or python REPL:\n",
    "from rag_guard import guard_and_run\n",
    "res = guard_and_run(\"Show me salinity profiles near the equator in March 2025\", year=\"2025\", months=[\"03\"], top_k=30, date_from=\"2025-03-01\", date_to=\"2025-03-31\", out_json=\"../pipeline_outputs/rag_equator_mar2025.json\")\n",
    "print(res)"
   ]
  },
  {
   "cell_type": "code",
   "execution_count": null,
   "id": "af6ea0a4",
   "metadata": {},
   "outputs": [
    {
     "name": "stdout",
     "output_type": "stream",
     "text": [
      "Tables: [('calibration_2025_01',), ('calibration_2025_02',), ('calibration_2025_03',), ('calibration_2025_04',), ('calibration_2025_05',), ('calibration_2025_06',), ('calibration_2025_07',), ('calibration_2025_08',), ('calibration_2025_09',), ('core_measurements_2025_01',), ('core_measurements_2025_02',), ('core_measurements_2025_03',), ('core_measurements_2025_04',), ('core_measurements_2025_05',), ('core_measurements_2025_06',), ('core_measurements_2025_07',), ('core_measurements_2025_08',), ('core_measurements_2025_09',), ('history_2025_01',), ('history_2025_02',), ('history_2025_03',), ('history_2025_04',), ('history_2025_05',), ('history_2025_06',), ('history_2025_07',), ('history_2025_08',), ('history_2025_09',), ('metadata_clean_2025_01',), ('metadata_clean_2025_02',), ('metadata_clean_2025_03',), ('metadata_clean_2025_04',), ('metadata_clean_2025_05',), ('metadata_clean_2025_06',), ('metadata_clean_2025_07',), ('metadata_clean_2025_08',), ('metadata_clean_2025_09',), ('metadata_full_2025_01',), ('metadata_full_2025_02',), ('metadata_full_2025_03',), ('metadata_full_2025_04',), ('metadata_full_2025_05',), ('metadata_full_2025_06',), ('metadata_full_2025_07',), ('metadata_full_2025_08',), ('metadata_full_2025_09',), ('qc_per_level_2025_01',), ('qc_per_level_2025_02',), ('qc_per_level_2025_03',), ('qc_per_level_2025_04',), ('qc_per_level_2025_05',), ('qc_per_level_2025_06',), ('qc_per_level_2025_07',), ('qc_per_level_2025_08',), ('qc_per_level_2025_09',), ('qc_profile_2025_01',), ('qc_profile_2025_02',), ('qc_profile_2025_03',), ('qc_profile_2025_04',), ('qc_profile_2025_05',), ('qc_profile_2025_06',), ('qc_profile_2025_07',), ('qc_profile_2025_08',), ('qc_profile_2025_09',), ('time_location_2025_01',), ('time_location_2025_02',), ('time_location_2025_03',), ('time_location_2025_04',), ('time_location_2025_05',), ('time_location_2025_06',), ('time_location_2025_07',), ('time_location_2025_08',), ('time_location_2025_09',)]\n",
      "   platform_number  profile_index                      juld  PRES   max_temp  \\\n",
      "0          1901514             43 2025-03-13 18:54:31+05:30  -0.3  37.377998   \n",
      "\n",
      "      PROJECT_NAME             PI_NAME  \n",
      "0  US ARGO PROJECT  GREGORY C. JOHNSON  \n"
     ]
    }
   ],
   "source": [
    "# I want to know the highest temperature measured by US ARGO PROJECT\"\n",
    "\n",
    "import duckdb\n",
    "import pandas as pd\n",
    "\n",
    "# Connect to your DuckDB file\n",
    "con = duckdb.connect(\"../argo.duckdb\")\n",
    "\n",
    "# Check available tables\n",
    "print(\"Tables:\", con.execute(\"SHOW TABLES\").fetchall())\n",
    "\n",
    "# Query: Get highest temperature measured by US ARGO PROJECT in 2025\n",
    "query = \"\"\"\n",
    "WITH all_measurements AS (\n",
    "    SELECT m.platform_number, m.profile_index, m.juld, m.pres, m.temp\n",
    "    FROM core_measurements_2025_01 m\n",
    "    UNION ALL\n",
    "    SELECT m.platform_number, m.profile_index, m.juld, m.pres, m.temp\n",
    "    FROM core_measurements_2025_02 m\n",
    "    UNION ALL\n",
    "    SELECT m.platform_number, m.profile_index, m.juld, m.pres, m.temp\n",
    "    FROM core_measurements_2025_03 m\n",
    "    UNION ALL\n",
    "    SELECT m.platform_number, m.profile_index, m.juld, m.pres, m.temp\n",
    "    FROM core_measurements_2025_04 m\n",
    "    UNION ALL\n",
    "    SELECT m.platform_number, m.profile_index, m.juld, m.pres, m.temp\n",
    "    FROM core_measurements_2025_05 m\n",
    "    UNION ALL\n",
    "    SELECT m.platform_number, m.profile_index, m.juld, m.pres, m.temp\n",
    "    FROM core_measurements_2025_06 m\n",
    "    UNION ALL\n",
    "    SELECT m.platform_number, m.profile_index, m.juld, m.pres, m.temp\n",
    "    FROM core_measurements_2025_07 m\n",
    "    UNION ALL\n",
    "    SELECT m.platform_number, m.profile_index, m.juld, m.pres, m.temp\n",
    "    FROM core_measurements_2025_08 m\n",
    "    UNION ALL\n",
    "    SELECT m.platform_number, m.profile_index, m.juld, m.pres, m.temp\n",
    "    FROM core_measurements_2025_09 m\n",
    "),\n",
    "all_metadata AS (\n",
    "    SELECT platform_number, project_name, pi_name\n",
    "    FROM metadata_full_2025_01\n",
    "    UNION\n",
    "    SELECT platform_number, project_name, pi_name FROM metadata_full_2025_02\n",
    "    UNION\n",
    "    SELECT platform_number, project_name, pi_name FROM metadata_full_2025_03\n",
    "    UNION\n",
    "    SELECT platform_number, project_name, pi_name FROM metadata_full_2025_04\n",
    "    UNION\n",
    "    SELECT platform_number, project_name, pi_name FROM metadata_full_2025_05\n",
    "    UNION\n",
    "    SELECT platform_number, project_name, pi_name FROM metadata_full_2025_06\n",
    "    UNION\n",
    "    SELECT platform_number, project_name, pi_name FROM metadata_full_2025_07\n",
    "    UNION\n",
    "    SELECT platform_number, project_name, pi_name FROM metadata_full_2025_08\n",
    "    UNION\n",
    "    SELECT platform_number, project_name, pi_name FROM metadata_full_2025_09\n",
    ")\n",
    "SELECT \n",
    "    a.platform_number,\n",
    "    a.profile_index,\n",
    "    a.juld,\n",
    "    a.pres,\n",
    "    a.temp AS max_temp,\n",
    "    md.project_name,\n",
    "    md.pi_name\n",
    "FROM all_measurements a\n",
    "JOIN all_metadata md\n",
    "  ON a.platform_number = md.platform_number\n",
    "WHERE md.project_name ILIKE '%US ARGO%'\n",
    "ORDER BY max_temp DESC\n",
    "LIMIT 1;\n",
    "\"\"\"\n",
    "\n",
    "result = con.execute(query).fetchdf()\n",
    "print(result)\n"
   ]
  },
  {
   "cell_type": "code",
   "execution_count": 3,
   "id": "f84341ff",
   "metadata": {},
   "outputs": [
    {
     "name": "stdout",
     "output_type": "stream",
     "text": [
      "   PLATFORM_NUMBER               PROJECT_NAME  \\\n",
      "0          1902476  DMB, WHOI Argo equivalent   \n",
      "\n",
      "                                             PI_NAME  \n",
      "0  VIVIANE MENEZES, HEATHER FUREY, AMY BOWER, MAT...  \n"
     ]
    }
   ],
   "source": [
    "# What is the project name of the platform number 1902476\n",
    "\n",
    "import duckdb\n",
    "import pandas as pd\n",
    "\n",
    "con = duckdb.connect(\"../argo.duckdb\")\n",
    "\n",
    "# Step 1: Look across all metadata_full tables for platform_number=1902476\n",
    "query = \"\"\"\n",
    "WITH all_metadata AS (\n",
    "    SELECT platform_number, project_name, pi_name\n",
    "    FROM metadata_full_2025_01\n",
    "    UNION\n",
    "    SELECT platform_number, project_name, pi_name FROM metadata_full_2025_02\n",
    "    UNION\n",
    "    SELECT platform_number, project_name, pi_name FROM metadata_full_2025_03\n",
    "    UNION\n",
    "    SELECT platform_number, project_name, pi_name FROM metadata_full_2025_04\n",
    "    UNION\n",
    "    SELECT platform_number, project_name, pi_name FROM metadata_full_2025_05\n",
    "    UNION\n",
    "    SELECT platform_number, project_name, pi_name FROM metadata_full_2025_06\n",
    "    UNION\n",
    "    SELECT platform_number, project_name, pi_name FROM metadata_full_2025_07\n",
    "    UNION\n",
    "    SELECT platform_number, project_name, pi_name FROM metadata_full_2025_08\n",
    "    UNION\n",
    "    SELECT platform_number, project_name, pi_name FROM metadata_full_2025_09\n",
    ")\n",
    "SELECT *\n",
    "FROM all_metadata\n",
    "WHERE platform_number = 1902476;\n",
    "\"\"\"\n",
    "\n",
    "result = con.execute(query).fetchdf()\n",
    "print(result)\n"
   ]
  },
  {
   "cell_type": "code",
   "execution_count": 1,
   "id": "36a8c1b9",
   "metadata": {},
   "outputs": [
    {
     "ename": "CatalogException",
     "evalue": "Catalog Error: Table with name measurements_full_2025_03 does not exist!\nDid you mean \"metadata_full_2025_03\"?\n\nLINE 5: FROM measurements_full_2025_03\n             ^",
     "output_type": "error",
     "traceback": [
      "\u001b[31m---------------------------------------------------------------------------\u001b[39m",
      "\u001b[31mCatalogException\u001b[39m                          Traceback (most recent call last)",
      "\u001b[36mCell\u001b[39m\u001b[36m \u001b[39m\u001b[32mIn[1]\u001b[39m\u001b[32m, line 16\u001b[39m\n\u001b[32m      4\u001b[39m con = duckdb.connect(\u001b[33m\"\u001b[39m\u001b[33m../argo.duckdb\u001b[39m\u001b[33m\"\u001b[39m)\n\u001b[32m      6\u001b[39m query = \u001b[33m\"\"\"\u001b[39m\n\u001b[32m      7\u001b[39m \u001b[33mSELECT \u001b[39m\n\u001b[32m      8\u001b[39m \u001b[33m    AVG(temperature) AS avg_temperature,\u001b[39m\n\u001b[32m   (...)\u001b[39m\u001b[32m     13\u001b[39m \u001b[33m  AND temperature IS NOT NULL;\u001b[39m\n\u001b[32m     14\u001b[39m \u001b[33m\"\"\"\u001b[39m\n\u001b[32m---> \u001b[39m\u001b[32m16\u001b[39m result = \u001b[43mcon\u001b[49m\u001b[43m.\u001b[49m\u001b[43mexecute\u001b[49m\u001b[43m(\u001b[49m\u001b[43mquery\u001b[49m\u001b[43m)\u001b[49m.fetchdf()\n\u001b[32m     17\u001b[39m \u001b[38;5;28mprint\u001b[39m(result)\n",
      "\u001b[31mCatalogException\u001b[39m: Catalog Error: Table with name measurements_full_2025_03 does not exist!\nDid you mean \"metadata_full_2025_03\"?\n\nLINE 5: FROM measurements_full_2025_03\n             ^"
     ]
    }
   ],
   "source": [
    "import duckdb\n",
    "import pandas as pd\n",
    "\n",
    "con = duckdb.connect(\"../argo.duckdb\")\n",
    "\n",
    "query = \"\"\"\n",
    "SELECT \n",
    "    AVG(temperature) AS avg_temperature,\n",
    "    COUNT(*) AS num_records\n",
    "FROM measurements_full_2025_03\n",
    "WHERE latitude BETWEEN 0 AND 30\n",
    "  AND longitude BETWEEN 60 AND 100\n",
    "  AND temperature IS NOT NULL;\n",
    "\"\"\"\n",
    "\n",
    "result = con.execute(query).fetchdf()\n",
    "print(result)\n"
   ]
  },
  {
   "cell_type": "code",
   "execution_count": null,
   "id": "05ed259e",
   "metadata": {},
   "outputs": [
    {
     "name": "stdout",
     "output_type": "stream",
     "text": [
      "ui_payload keys: dict_keys([])\n"
     ]
    },
    {
     "ename": "KeyError",
     "evalue": "'ui_payload'",
     "output_type": "error",
     "traceback": [
      "\u001b[31m---------------------------------------------------------------------------\u001b[39m",
      "\u001b[31mKeyError\u001b[39m                                  Traceback (most recent call last)",
      "\u001b[36mCell\u001b[39m\u001b[36m \u001b[39m\u001b[32mIn[2]\u001b[39m\u001b[32m, line 5\u001b[39m\n\u001b[32m      3\u001b[39m d = json.load(\u001b[38;5;28mopen\u001b[39m(p))\n\u001b[32m      4\u001b[39m \u001b[38;5;28mprint\u001b[39m(\u001b[33m\"\u001b[39m\u001b[33mui_payload keys:\u001b[39m\u001b[33m\"\u001b[39m, d.get(\u001b[33m\"\u001b[39m\u001b[33mui_payload\u001b[39m\u001b[33m\"\u001b[39m, {}).keys())\n\u001b[32m----> \u001b[39m\u001b[32m5\u001b[39m \u001b[38;5;28;01mfor\u001b[39;00m item \u001b[38;5;129;01min\u001b[39;00m \u001b[43md\u001b[49m\u001b[43m[\u001b[49m\u001b[33;43m\"\u001b[39;49m\u001b[33;43mui_payload\u001b[39;49m\u001b[33;43m\"\u001b[39;49m\u001b[43m]\u001b[49m[\u001b[33m\"\u001b[39m\u001b[33mui\u001b[39m\u001b[33m\"\u001b[39m][:\u001b[32m3\u001b[39m]:\n\u001b[32m      6\u001b[39m     \u001b[38;5;28mprint\u001b[39m(\u001b[33m\"\u001b[39m\u001b[33mTYPE:\u001b[39m\u001b[33m\"\u001b[39m, item.get(\u001b[33m\"\u001b[39m\u001b[33mtype\u001b[39m\u001b[33m\"\u001b[39m), \u001b[33m\"\u001b[39m\u001b[33mTITLE:\u001b[39m\u001b[33m\"\u001b[39m, item.get(\u001b[33m\"\u001b[39m\u001b[33mtitle\u001b[39m\u001b[33m\"\u001b[39m, \u001b[33m\"\u001b[39m\u001b[33m\"\u001b[39m)[:\u001b[32m80\u001b[39m], \u001b[33m\"\u001b[39m\u001b[33mMETA:\u001b[39m\u001b[33m\"\u001b[39m, item.get(\u001b[33m\"\u001b[39m\u001b[33mmeta\u001b[39m\u001b[33m\"\u001b[39m, {}))\n",
      "\u001b[31mKeyError\u001b[39m: 'ui_payload'"
     ]
    }
   ],
   "source": [
    "import json\n",
    "p = \"../pipeline_outputs/test_ui_profile.json\"\n",
    "d = json.load(open(p))\n",
    "print(\"ui_payload keys:\", d.get(\"ui_payload\", {}).keys())\n",
    "for item in d[\"ui_payload\"][\"ui\"][:3]:\n",
    "    print(\"TYPE:\", item.get(\"type\"), \"TITLE:\", item.get(\"title\", \"\")[:80], \"META:\", item.get(\"meta\", {}))"
   ]
  },
  {
   "cell_type": "code",
   "execution_count": null,
   "id": "e040e1ec",
   "metadata": {},
   "outputs": [],
   "source": []
  }
 ],
 "metadata": {
  "kernelspec": {
   "display_name": "venv",
   "language": "python",
   "name": "python3"
  },
  "language_info": {
   "codemirror_mode": {
    "name": "ipython",
    "version": 3
   },
   "file_extension": ".py",
   "mimetype": "text/x-python",
   "name": "python",
   "nbconvert_exporter": "python",
   "pygments_lexer": "ipython3",
   "version": "3.12.5"
  }
 },
 "nbformat": 4,
 "nbformat_minor": 5
}
